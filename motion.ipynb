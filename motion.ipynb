{
 "cells": [
  {
   "cell_type": "markdown",
   "id": "0fa1e646",
   "metadata": {},
   "source": [
    "# Motion and Tracking"
   ]
  },
  {
   "cell_type": "code",
   "execution_count": 1,
   "id": "5fc73acc",
   "metadata": {},
   "outputs": [],
   "source": [
    "import cv2\n",
    "import numpy as np"
   ]
  },
  {
   "cell_type": "code",
   "execution_count": 3,
   "id": "853b5ffd",
   "metadata": {},
   "outputs": [],
   "source": [
    "cap = cv2.VideoCapture(0)\n",
    "\n",
    "# Parameters for Shi-Tomasi corner detection\n",
    "feature_params = dict(\n",
    "    maxCorners=100,\n",
    "    qualityLevel=0.3,\n",
    "    minDistance=7,\n",
    "    blockSize=7\n",
    ")\n",
    "\n",
    "# Parameters for Lucas-Kanade optical flow\n",
    "lk_params = dict(\n",
    "    winSize=(15, 15),\n",
    "    maxLevel=2,\n",
    "    criteria=(cv2.TERM_CRITERIA_EPS | cv2.TERM_CRITERIA_COUNT, 10, 0.03)\n",
    ")\n",
    "\n",
    "# Create some random colors\n",
    "color = np.random.randint(0, 255, (100, 3))\n",
    "\n",
    "# Read the first frame\n",
    "ret, old_frame = cap.read()\n",
    "if not ret:\n",
    "    print(\"❌ Failed to read from webcam.\")\n",
    "    cap.release()\n",
    "    exit()\n",
    "\n",
    "old_gray = cv2.cvtColor(old_frame, cv2.COLOR_BGR2GRAY)\n",
    "p0 = cv2.goodFeaturesToTrack(old_gray, mask=None, **feature_params)\n",
    "\n",
    "# Create a mask image for drawing optical flow lines\n",
    "mask = np.zeros_like(old_frame)\n",
    "\n",
    "while True:\n",
    "    ret, frame = cap.read()\n",
    "    if not ret:\n",
    "        print(\"❌ Frame grab failed.\")\n",
    "        break\n",
    "\n",
    "    frame_gray = cv2.cvtColor(frame, cv2.COLOR_BGR2GRAY)\n",
    "\n",
    "    # Calculate optical flow (only if previous points exist)\n",
    "    if p0 is not None:\n",
    "        p1, st, err = cv2.calcOpticalFlowPyrLK(old_gray, frame_gray, p0, None, **lk_params)\n",
    "\n",
    "        if p1 is not None and st is not None:\n",
    "            # Select good points\n",
    "            good_new = p1[st == 1]\n",
    "            good_old = p0[st == 1]\n",
    "\n",
    "            # Draw the tracks\n",
    "            for i, (new, old) in enumerate(zip(good_new, good_old)):\n",
    "                a, b = new.ravel()\n",
    "                c, d = old.ravel()\n",
    "                mask = cv2.line(mask, (int(a), int(b)), (int(c), int(d)), color[i % 100].tolist(), 2)\n",
    "                frame = cv2.circle(frame, (int(a), int(b)), 5, color[i % 100].tolist(), -1)\n",
    "\n",
    "            img = cv2.add(frame, mask)\n",
    "            cv2.imshow('Optical Flow - Lucas Kanade', img)\n",
    "\n",
    "            # Update previous frame and points\n",
    "            old_gray = frame_gray.copy()\n",
    "            p0 = good_new.reshape(-1, 1, 2)\n",
    "        else:\n",
    "            print(\"⚠️ No good points detected. Resetting tracking.\")\n",
    "            p0 = cv2.goodFeaturesToTrack(frame_gray, mask=None, **feature_params)\n",
    "            mask = np.zeros_like(frame)  # reset the mask\n",
    "    else:\n",
    "        print(\"⚠️ No points found. Reinitializing.\")\n",
    "        p0 = cv2.goodFeaturesToTrack(frame_gray, mask=None, **feature_params)\n",
    "        mask = np.zeros_like(frame)\n",
    "\n",
    "    # Exit on pressing ESC\n",
    "    if cv2.waitKey(25) & 0xFF == 27:\n",
    "        break\n",
    "\n",
    "cap.release()\n",
    "cv2.destroyAllWindows()"
   ]
  },
  {
   "cell_type": "code",
   "execution_count": null,
   "id": "b05e43a7",
   "metadata": {},
   "outputs": [],
   "source": []
  }
 ],
 "metadata": {
  "kernelspec": {
   "display_name": "venv",
   "language": "python",
   "name": "python3"
  },
  "language_info": {
   "codemirror_mode": {
    "name": "ipython",
    "version": 3
   },
   "file_extension": ".py",
   "mimetype": "text/x-python",
   "name": "python",
   "nbconvert_exporter": "python",
   "pygments_lexer": "ipython3",
   "version": "3.12.10"
  }
 },
 "nbformat": 4,
 "nbformat_minor": 5
}
